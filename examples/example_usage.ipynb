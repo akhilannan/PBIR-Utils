{
 "cells": [
  {
   "cell_type": "markdown",
   "metadata": {},
   "source": [
    "# Install dependencies"
   ]
  },
  {
   "cell_type": "code",
   "execution_count": null,
   "metadata": {},
   "outputs": [],
   "source": [
    "!pip install -r ../requirements.txt -q"
   ]
  },
  {
   "cell_type": "markdown",
   "metadata": {},
   "source": [
    "# Import Libraries"
   ]
  },
  {
   "cell_type": "code",
   "execution_count": null,
   "metadata": {},
   "outputs": [],
   "source": [
    "import sys\n",
    "import os\n",
    "\n",
    "# Add the project root to the system path\n",
    "project_root = os.path.abspath(os.path.join(os.getcwd(), \"..\"))\n",
    "if project_root not in sys.path:\n",
    "    sys.path.append(project_root)\n",
    "\n",
    "from src.pbir_processor import batch_update_pbir_project\n",
    "from src.metadata_extractor import export_pbir_metadata_to_csv\n",
    "from src.report_wireframe_visualizer import display_report_wireframes\n",
    "from src.visual_interactions_utils import disable_visual_interactions"
   ]
  },
  {
   "cell_type": "markdown",
   "metadata": {},
   "source": [
    "# Initialize Path Variables"
   ]
  },
  {
   "cell_type": "code",
   "execution_count": null,
   "metadata": {},
   "outputs": [],
   "source": [
    "pbip_directory = r\"C:\\DEV\\Power BI Report\"\n",
    "csv_path = r\"C:\\DEV\\Attribute_Mapping.csv\"\n",
    "output_csv_path  = r\"C:\\DEV\\output.csv\"\n",
    "pbir_report_folder = r'C:\\DEV\\Power BI Report\\Report Name.Report'"
   ]
  },
  {
   "cell_type": "markdown",
   "metadata": {},
   "source": [
    "# Example 1: Batch update attributes in PBIR project"
   ]
  },
  {
   "cell_type": "code",
   "execution_count": null,
   "metadata": {},
   "outputs": [],
   "source": [
    "batch_update_pbir_project(pbip_directory, csv_path)"
   ]
  },
  {
   "cell_type": "markdown",
   "metadata": {},
   "source": [
    "# Example 2: Export attribute metadata to CSV"
   ]
  },
  {
   "cell_type": "code",
   "execution_count": null,
   "metadata": {},
   "outputs": [],
   "source": [
    "export_pbir_metadata_to_csv(pbip_directory, output_csv_path)"
   ]
  },
  {
   "cell_type": "markdown",
   "metadata": {},
   "source": [
    "# Example 3: Display Report Wireframe"
   ]
  },
  {
   "cell_type": "code",
   "execution_count": null,
   "metadata": {},
   "outputs": [],
   "source": [
    "display_report_wireframes(\n",
    "    pbir_report_folder,\n",
    "    pages=[],\n",
    "    visual_types=[],\n",
    "    visual_ids=[],\n",
    "    show_hidden=True  # Set to False to hide hidden visuals, True to show them\n",
    ")"
   ]
  },
  {
   "cell_type": "markdown",
   "metadata": {},
   "source": [
    "# Example 4: Disable Visual Interactions"
   ]
  },
  {
   "cell_type": "code",
   "execution_count": null,
   "metadata": {},
   "outputs": [],
   "source": [
    "disable_visual_interactions(\n",
    "    pbir_report_folder,\n",
    "    pages=[],\n",
    "    source_visual_ids=[],\n",
    "    source_visual_types=[],\n",
    "    target_visual_ids=[],\n",
    "    target_visual_types=[],\n",
    "    update_type=\"Upsert\"\n",
    ")"
   ]
  }
 ],
 "metadata": {
  "kernelspec": {
   "display_name": ".venv",
   "language": "python",
   "name": "python3"
  },
  "language_info": {
   "codemirror_mode": {
    "name": "ipython",
    "version": 3
   },
   "file_extension": ".py",
   "mimetype": "text/x-python",
   "name": "python",
   "nbconvert_exporter": "python",
   "pygments_lexer": "ipython3",
   "version": "3.12.5"
  }
 },
 "nbformat": 4,
 "nbformat_minor": 2
}
